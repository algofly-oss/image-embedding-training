{
 "cells": [
  {
   "cell_type": "markdown",
   "id": "bd78bf87",
   "metadata": {},
   "source": [
    "### Download full dataset\n",
    "https://www.pinlandata.com/rp2k_dataset"
   ]
  },
  {
   "cell_type": "code",
   "execution_count": null,
   "id": "2ba1cf0e",
   "metadata": {},
   "outputs": [],
   "source": [
    "# Download\n",
    "!aria2c --file-allocation=none -c -x 10 -s 10 \\\n",
    "    -d \"downloads\" \\\n",
    "    https://blob-nips2020-rp2k-dataset.obs.cn-east-3.myhuaweicloud.com/rp2k_dataset.zip \\\n",
    "    --check-certificate=false\n",
    "\n",
    "# Extract\n",
    "!cd downloads && unzip -q rp2k_dataset.zip\n",
    "!mv downloads/all/test downloads/all/val"
   ]
  },
  {
   "cell_type": "markdown",
   "id": "919c2ab9",
   "metadata": {},
   "source": [
    "### Make a subset of dataset for balanced and faster training"
   ]
  },
  {
   "cell_type": "code",
   "execution_count": 54,
   "id": "924d61c9",
   "metadata": {},
   "outputs": [],
   "source": [
    "output_dir = \"./downloads/subset\"\n",
    "os.makedirs(output_dir, exist_ok=True)\n",
    "\n",
    "for i in glob.glob(\"./downloads/all/train/*\"):\n",
    "    images = glob.glob(f\"{i}/*\")[:10] # only select 10 images per class\n",
    "    for image_path in images:\n",
    "        os.makedirs(os.path.dirname(image_path.replace(\"/all/\", \"/subset/\")), exist_ok=True)\n",
    "        shutil.copy(image_path, image_path.replace(\"/all/\", \"/subset/\"))\n",
    "\n",
    "for i in glob.glob(\"./downloads/all/val/*\"):\n",
    "    images = glob.glob(f\"{i}/*\")[:10] # only select 10 images per class\n",
    "    for image_path in images:\n",
    "        os.makedirs(os.path.dirname(image_path.replace(\"/all/\", \"/subset/\")), exist_ok=True)\n",
    "        shutil.copy(image_path, image_path.replace(\"/all/\", \"/subset/\"))"
   ]
  },
  {
   "cell_type": "markdown",
   "id": "6d3fe26d",
   "metadata": {},
   "source": [
    "### Dataset preparation"
   ]
  },
  {
   "cell_type": "code",
   "execution_count": 60,
   "id": "2f9d0de8",
   "metadata": {},
   "outputs": [],
   "source": [
    "import os\n",
    "import glob\n",
    "import shutil\n",
    "import cv2\n",
    "import numpy as np\n",
    "import pandas as pd\n",
    "from tqdm import tqdm\n",
    "import hashlib\n",
    "import torch\n",
    "from dreamsim import dreamsim\n",
    "from PIL import Image\n",
    "import torch.nn.functional as F\n",
    "from shared import LabelEncoder, resize_and_pad_image_cv2"
   ]
  },
  {
   "cell_type": "code",
   "execution_count": 67,
   "id": "846179d8",
   "metadata": {},
   "outputs": [
    {
     "name": "stdout",
     "output_type": "stream",
     "text": [
      "Downloading checkpoint\n"
     ]
    },
    {
     "name": "stderr",
     "output_type": "stream",
     "text": [
      "100%|██████████| 699M/699M [00:24<00:00, 29.4MB/s] \n"
     ]
    },
    {
     "name": "stdout",
     "output_type": "stream",
     "text": [
      "Unzipping...\n"
     ]
    },
    {
     "name": "stderr",
     "output_type": "stream",
     "text": [
      "Using cache found in ./models/facebookresearch_dino_main\n",
      "/usr/local/lib/python3.10/dist-packages/torch/nn/utils/weight_norm.py:143: FutureWarning: `torch.nn.utils.weight_norm` is deprecated in favor of `torch.nn.utils.parametrizations.weight_norm`.\n",
      "  WeightNorm.apply(module, name, dim)\n",
      "/usr/local/lib/python3.10/dist-packages/peft/tuners/tuners_utils.py:167: UserWarning: Already found a `peft_config` attribute in the model. This will lead to having multiple adapters in the model. Make sure to know what you are doing!\n",
      "  warnings.warn(\n"
     ]
    }
   ],
   "source": [
    "device = torch.device(\"cuda\")\n",
    "model, dreamsim_preprocess = dreamsim(cache_dir=\"./models\", dreamsim_type=\"dino_vitb16\", device=device)"
   ]
  },
  {
   "cell_type": "code",
   "execution_count": 62,
   "id": "0206ab74",
   "metadata": {},
   "outputs": [],
   "source": [
    "images = glob.glob(\"./downloads/subset/*/*/*\")\n",
    "le = LabelEncoder(os.listdir(\"./downloads/subset/train\"))"
   ]
  },
  {
   "cell_type": "code",
   "execution_count": null,
   "id": "f4897961",
   "metadata": {},
   "outputs": [],
   "source": [
    "output_dir = \"./dataset/rp2k_nights_224\"\n",
    "shutil.rmtree(output_dir, ignore_errors=True)\n",
    "\n",
    "rows = []\n",
    "for ref_image_path in tqdm(images):\n",
    "    try:\n",
    "        ref_class_label = os.path.basename(os.path.dirname(ref_image_path))\n",
    "        ref_class_id = le.class2id[ref_class_label]\n",
    "        split = os.path.basename(os.path.dirname(os.path.dirname(ref_image_path)))\n",
    "\n",
    "        ref_image = resize_and_pad_image_cv2(np.array(Image.open(ref_image_path).convert(\"RGBA\").convert(\"RGB\")))\n",
    "        ref_path = f\"{output_dir}/ref/{ref_class_id}/{ref_class_id}_{hashlib.md5(ref_image).hexdigest()}.jpg\"\n",
    "        with torch.no_grad():\n",
    "            img = dreamsim_preprocess(Image.fromarray(ref_image)).to(device)\n",
    "            ref_image_embedding = model.embed(img)\n",
    "            del img\n",
    "\n",
    "        same_class_images = [{\"path\": p} for p in images if ref_class_label in p]\n",
    "        for img_dict in same_class_images:\n",
    "            with torch.no_grad():\n",
    "                img_dict[\"class_id\"] = le.class2id[os.path.basename(os.path.dirname(img_dict[\"path\"]))]\n",
    "                img_dict[\"image\"] = resize_and_pad_image_cv2(np.array(Image.open(img_dict[\"path\"]).convert(\"RGBA\").convert(\"RGB\")))\n",
    "                img = dreamsim_preprocess(Image.fromarray(img_dict[\"image\"])).to(device)\n",
    "                img_dict[\"similarity\"] = F.cosine_similarity(\n",
    "                    ref_image_embedding,\n",
    "                    model.embed(img)\n",
    "                ).item()\n",
    "                del img\n",
    "\n",
    "        same_class_images = sorted([x for x in same_class_images if x['similarity'] != 1.0], key=lambda x:x[\"similarity\"], reverse=True)\n",
    "\n",
    "        if len(same_class_images) <= 1:\n",
    "            continue\n",
    "\n",
    "        right_image = same_class_images[0][\"image\"]\n",
    "        right_path = f\"{output_dir}/distort/{same_class_images[0]['class_id']}/{same_class_images[0]['class_id']}_{hashlib.md5(right_image).hexdigest()}.jpg\"\n",
    "\n",
    "        left_image = same_class_images[-1][\"image\"]\n",
    "        left_path = f\"{output_dir}/distort/{same_class_images[-1]['class_id']}/{same_class_images[-1]['class_id']}_{hashlib.md5(left_image).hexdigest()}.jpg\"\n",
    "\n",
    "        try:\n",
    "            ref_image.shape\n",
    "            left_image.shape\n",
    "            right_image.shape\n",
    "        except Exception as e:\n",
    "            print(e)\n",
    "            continue\n",
    "\n",
    "        os.makedirs(os.path.dirname(ref_path), exist_ok=True)\n",
    "        cv2.imwrite(ref_path, cv2.cvtColor(ref_image, cv2.COLOR_RGB2BGR))\n",
    "\n",
    "        os.makedirs(os.path.dirname(left_path), exist_ok=True)\n",
    "        cv2.imwrite(left_path, cv2.cvtColor(left_image, cv2.COLOR_RGB2BGR))\n",
    "        \n",
    "        os.makedirs(os.path.dirname(right_path), exist_ok=True)\n",
    "        cv2.imwrite(right_path, cv2.cvtColor(right_image, cv2.COLOR_RGB2BGR))\n",
    "\n",
    "        rows.append({\n",
    "            \"id\": ref_class_id,\n",
    "            \"left_vote\": 0,\n",
    "            \"right_vote\": 1,\n",
    "            \"votes\": 8,\n",
    "            \"ref_path\": \"ref/\"+ref_path.split(\"/ref/\")[1],\n",
    "            \"left_path\": \"distort/\"+left_path.split(\"/distort/\")[1],\n",
    "            \"right_path\": \"distort/\"+right_path.split(\"/distort/\")[1],\n",
    "            \"split\": split,\n",
    "            \"is_imagenet\": \"FALSE\",\n",
    "            \"prompt\": \"product\"\n",
    "        })\n",
    "    except Exception as e:\n",
    "        print(e)"
   ]
  },
  {
   "cell_type": "code",
   "execution_count": null,
   "id": "05854e53",
   "metadata": {},
   "outputs": [],
   "source": [
    "df = pd.DataFrame(rows)\n",
    "df.to_csv(\"./dataset/rp2k_nights_224/data.csv\", index=False)\n",
    "df"
   ]
  }
 ],
 "metadata": {
  "kernelspec": {
   "display_name": "Python 3 (ipykernel)",
   "language": "python",
   "name": "python3"
  },
  "language_info": {
   "codemirror_mode": {
    "name": "ipython",
    "version": 3
   },
   "file_extension": ".py",
   "mimetype": "text/x-python",
   "name": "python",
   "nbconvert_exporter": "python",
   "pygments_lexer": "ipython3",
   "version": "3.10.12"
  }
 },
 "nbformat": 4,
 "nbformat_minor": 5
}
