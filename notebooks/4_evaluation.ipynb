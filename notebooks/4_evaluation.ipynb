{
 "cells": [
  {
   "cell_type": "code",
   "execution_count": 50,
   "id": "0ca9cd1d",
   "metadata": {},
   "outputs": [
    {
     "name": "stdout",
     "output_type": "stream",
     "text": [
      "Prefix <model.model.> was removed from the state dict.\n"
     ]
    },
    {
     "data": {
      "text/plain": [
       "(0.803785502910614, 0.060847196727991104)"
      ]
     },
     "execution_count": 50,
     "metadata": {},
     "output_type": "execute_result"
    }
   ],
   "source": [
    "import os\n",
    "import glob\n",
    "import torch\n",
    "import pandas as pd\n",
    "import numpy as np\n",
    "from PIL import Image\n",
    "import matplotlib.pyplot as plt\n",
    "from oml.models import ViTExtractor\n",
    "from oml.registry import get_transforms_for_pretrained\n",
    "import torch.nn.functional as F\n",
    "import uuid\n",
    "from tqdm import tqdm\n",
    "\n",
    "import yaml\n",
    "from oml.registry.models import get_extractor_by_cfg\n",
    "from shared import resize_and_pad_image_cv2\n",
    "\n",
    "from qdrant_client import QdrantClient\n",
    "from qdrant_client.models import Distance, VectorParams, PointStruct, SearchRequest\n",
    "\n",
    "DEVICE = \"cuda:0\" if torch.cuda.is_available() else \"cpu\"\n",
    "transform, _ = get_transforms_for_pretrained(\"vitb14_dinov2\")\n",
    "model_path = \"./weights/birds_200_vitb14_dinov2/checkpoints/best.ckpt\"\n",
    "\n",
    "extractor = get_extractor_by_cfg({\n",
    "    'name': 'vit',\n",
    "    'args': {\n",
    "        'normalise_features': True,\n",
    "        'use_multi_scale': False,\n",
    "        'weights': model_path,\n",
    "        'arch': 'vitb14'\n",
    "    }\n",
    "}).to(DEVICE)\n",
    "\n",
    "def get_embedding(image_path):\n",
    "    with torch.no_grad():\n",
    "        image = Image.open(image_path).convert(\"RGB\")\n",
    "        image = Image.fromarray(resize_and_pad_image_cv2(np.array(image)))\n",
    "        image = transform(image).unsqueeze(0)\n",
    "        embeddings = extractor(image.to(DEVICE))\n",
    "        return embeddings\n",
    "    \n",
    "embedding1 = get_embedding(\"./downloads/birds-200-species/CUB_200_2011/train/001.Black_footed_Albatross/Black_Footed_Albatross_0001_796111.jpg\")\n",
    "embedding2 = get_embedding(\"./downloads/birds-200-species/CUB_200_2011/train/001.Black_footed_Albatross/Black_Footed_Albatross_0058_796074.jpg\")\n",
    "embedding3 = get_embedding(\"./downloads/birds-200-species/CUB_200_2011/train/078.Gray_Kingbird/Gray_Kingbird_0051_70139.jpg\")\n",
    "\n",
    "F.cosine_similarity(embedding1, embedding2, dim=1).item(), F.cosine_similarity(embedding1, embedding3, dim=1).item()"
   ]
  },
  {
   "cell_type": "code",
   "execution_count": 46,
   "id": "c9c09130",
   "metadata": {},
   "outputs": [],
   "source": [
    "COLLECTION_NAME = \"image-embedding-training\"\n",
    "EMBEDDING_SIZE = embedding1.shape[1]\n",
    "\n",
    "# Initialize qdrant client\n",
    "client = QdrantClient(\n",
    "    host=\"image_embeddings_qdrant\",\n",
    "    port=6333,\n",
    "    grpc_port=6334,\n",
    "    prefer_grpc=True\n",
    ")"
   ]
  },
  {
   "cell_type": "code",
   "execution_count": 47,
   "id": "10ea6d8e",
   "metadata": {},
   "outputs": [],
   "source": [
    "train_images = glob.glob(\"./downloads/birds-200-species/CUB_200_2011/train/*/*\")\n",
    "val_images = glob.glob(\"./downloads/birds-200-species/CUB_200_2011/val/*/*\")"
   ]
  },
  {
   "cell_type": "code",
   "execution_count": 51,
   "id": "88802a95",
   "metadata": {},
   "outputs": [
    {
     "name": "stderr",
     "output_type": "stream",
     "text": [
      "/tmp/ipykernel_143896/1035688666.py:11: DeprecationWarning: `recreate_collection` method is deprecated and will be removed in the future. Use `collection_exists` to check collection existence and `create_collection` instead.\n",
      "  client.recreate_collection(\n",
      "/tmp/ipykernel_143896/1035688666.py:18: PydanticDeprecatedSince20: The `dict` method is deprecated; use `model_dump` instead. Deprecated in Pydantic V2.0 to be removed in V3.0. See Pydantic V2 Migration Guide at https://errors.pydantic.dev/2.11/migration/\n",
      "  ).dict()[\"result\"][\"points_count\"] or 0\n",
      "100%|██████████| 9977/9977 [00:46<00:00, 215.15it/s]\n",
      "100%|██████████| 1811/1811 [00:08<00:00, 208.00it/s]"
     ]
    },
    {
     "name": "stdout",
     "output_type": "stream",
     "text": [
      "Accuracy: 0.864715626725566\n"
     ]
    },
    {
     "name": "stderr",
     "output_type": "stream",
     "text": [
      "\n"
     ]
    }
   ],
   "source": [
    "# check if collection exists\n",
    "existing_collections = [c.name for c in client.get_collections().collections]\n",
    "\n",
    "# re-create collection\n",
    "if COLLECTION_NAME in existing_collections:\n",
    "    client.delete_collection(collection_name=COLLECTION_NAME)\n",
    "    existing_collections = [c.name for c in client.get_collections().collections]\n",
    "\n",
    "# create collection if doesn't exists\n",
    "if not (COLLECTION_NAME in existing_collections):\n",
    "    client.recreate_collection(\n",
    "        collection_name=COLLECTION_NAME,\n",
    "        vectors_config=VectorParams(size=EMBEDDING_SIZE, distance=Distance.COSINE),\n",
    "    )\n",
    "\n",
    "total_records_qdrant = client.http.collections_api.get_collection(\n",
    "    COLLECTION_NAME\n",
    ").dict()[\"result\"][\"points_count\"] or 0\n",
    "\n",
    "# print(f\"Total records inside Qdrant: {total_records_qdrant}\")\n",
    "\n",
    "def index_data(batch):\n",
    "    with torch.no_grad():\n",
    "        images = torch.stack([\n",
    "            transform(Image.fromarray(resize_and_pad_image_cv2(np.array(Image.open(x[0]).convert(\"RGB\"))))) for x in batch\n",
    "        ])\n",
    "        embeddings = extractor(images.to(DEVICE)).cpu().numpy()\n",
    "        labels = [x[1] for x in batch]\n",
    "\n",
    "    points = []\n",
    "    for embedding, label in zip(embeddings, labels):\n",
    "        embedding = embedding.tolist()\n",
    "        payload_id = uuid.uuid1().int >> 64\n",
    "        points.append(\n",
    "            PointStruct(\n",
    "                id=payload_id,\n",
    "                payload={\"label\": label},\n",
    "                vector=embedding,\n",
    "            )\n",
    "        )\n",
    "    \n",
    "    client.upsert(collection_name=COLLECTION_NAME, points=points, wait=True)\n",
    "\n",
    "batch_size = 128\n",
    "batch = []\n",
    "\n",
    "for image in tqdm(train_images):\n",
    "    label = os.path.basename(os.path.dirname(image))\n",
    "\n",
    "    if len(batch) >= batch_size:\n",
    "        index_data(batch)\n",
    "        batch = []\n",
    "\n",
    "    batch.append([image, label])\n",
    "\n",
    "if len(batch):\n",
    "    index_data(batch)\n",
    "    batch = []\n",
    "    \n",
    "def search_data(batch):\n",
    "    with torch.no_grad():\n",
    "        images = torch.stack([\n",
    "            transform(Image.fromarray(resize_and_pad_image_cv2(np.array(Image.open(x[0]).convert(\"RGB\"))))) for x in batch\n",
    "        ])\n",
    "        embeddings = extractor(images.to(DEVICE)).cpu().numpy()\n",
    "        labels = [x[1] for x in batch]\n",
    "    \n",
    "    search_queries = [\n",
    "        SearchRequest(\n",
    "            vector=embedding,\n",
    "            filter=None,\n",
    "            limit=1,\n",
    "            with_payload=True,\n",
    "        ) for embedding in embeddings\n",
    "    ]\n",
    "    \n",
    "    # Search for matching embedding vector and it's label in qdrant db\n",
    "    res = client.search_batch(collection_name=COLLECTION_NAME, requests=search_queries)\n",
    "    predicted = [r[0].payload[\"label\"] for r in res]\n",
    "    \n",
    "    return predicted\n",
    "\n",
    "batch_size = 128\n",
    "batch = []\n",
    "\n",
    "correct, incorrect = 0, 0\n",
    "for image in tqdm(val_images):\n",
    "    label = os.path.basename(os.path.dirname(image))\n",
    "\n",
    "    if len(batch) >= batch_size:\n",
    "        for b, predicted in zip(batch, search_data(batch)):\n",
    "            image, label = b[0], b[1]\n",
    "            if label == predicted:\n",
    "                correct += 1\n",
    "            else:\n",
    "                incorrect += 1\n",
    "\n",
    "        batch = []\n",
    "\n",
    "    batch.append([image, label])\n",
    "\n",
    "if len(batch):\n",
    "    for b, predicted in zip(batch, search_data(batch)):\n",
    "        image, label = b[0], b[1]\n",
    "        if label == predicted:\n",
    "            correct += 1\n",
    "        else:\n",
    "            incorrect += 1\n",
    "\n",
    "    batch = []\n",
    "    \n",
    "acc = correct / (correct + incorrect)\n",
    "print(f\"Accuracy: {acc}\")"
   ]
  }
 ],
 "metadata": {
  "kernelspec": {
   "display_name": "Python 3 (ipykernel)",
   "language": "python",
   "name": "python3"
  },
  "language_info": {
   "codemirror_mode": {
    "name": "ipython",
    "version": 3
   },
   "file_extension": ".py",
   "mimetype": "text/x-python",
   "name": "python",
   "nbconvert_exporter": "python",
   "pygments_lexer": "ipython3",
   "version": "3.10.12"
  }
 },
 "nbformat": 4,
 "nbformat_minor": 5
}
