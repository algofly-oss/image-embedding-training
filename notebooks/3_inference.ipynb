{
 "cells": [
  {
   "cell_type": "code",
   "execution_count": null,
   "id": "3b5a4ce6",
   "metadata": {},
   "outputs": [],
   "source": [
    "import os\n",
    "import glob\n",
    "import torch\n",
    "from dreamsim import dreamsim\n",
    "from PIL import Image\n",
    "import torch.nn.functional as F"
   ]
  },
  {
   "cell_type": "code",
   "execution_count": 37,
   "id": "3eb86222",
   "metadata": {},
   "outputs": [
    {
     "name": "stdout",
     "output_type": "stream",
     "text": [
      "'epoch=00.ckpt'  'epoch=03.ckpt'   epoch_1   epoch_4\n",
      "'epoch=01.ckpt'  'epoch=04.ckpt'   epoch_2   last.ckpt\n",
      "'epoch=02.ckpt'   epoch_0\t   epoch_3\n"
     ]
    }
   ],
   "source": [
    "!ls ./output/new_backbones/*/dreamsim_training/*/checkpoints/"
   ]
  },
  {
   "cell_type": "code",
   "execution_count": 38,
   "id": "bc55255d",
   "metadata": {},
   "outputs": [],
   "source": [
    "# copy all required files for inference\n",
    "# !rm -rf ./trained_model && cp -r ./models ./trained_model\n",
    "!cp -r ./output/new_backbones/*/dreamsim_training/*/checkpoints/epoch_4/* ./trained_model/dino_vitb16_single_lora"
   ]
  },
  {
   "cell_type": "code",
   "execution_count": 36,
   "id": "0d170c2f",
   "metadata": {},
   "outputs": [
    {
     "name": "stdout",
     "output_type": "stream",
     "text": [
      "dino_vitbase16_pretrain.pth\n"
     ]
    }
   ],
   "source": [
    "!ls trained_model/checkpoints"
   ]
  },
  {
   "cell_type": "code",
   "execution_count": null,
   "id": "511e6cd7",
   "metadata": {},
   "outputs": [],
   "source": [
    "# load model\n",
    "device = torch.device(\"cpu\")\n",
    "model, dreamsim_preprocess = dreamsim(cache_dir=\"./trained_model\", dreamsim_type=\"dino_vitb16\", device=device)"
   ]
  },
  {
   "cell_type": "code",
   "execution_count": 4,
   "id": "03638bf0",
   "metadata": {},
   "outputs": [
    {
     "name": "stdout",
     "output_type": "stream",
     "text": [
      "0.7461689114570618\n",
      "0.3533407151699066\n",
      "0.10858240723609924\n"
     ]
    }
   ],
   "source": [
    "img = Image.open('./downloads/all/train/黑卡六小时/0514_72545_0.9999995.jpg').convert('RGB')  \n",
    "img_tensor = dreamsim_preprocess(img).to(device)\n",
    "with torch.no_grad():  \n",
    "    embedding = model.embed(img_tensor)  \n",
    "\n",
    "img = Image.open('./downloads/all/train/黑卡六小时/0514_36251_0.9999529.jpg').convert('RGB')  \n",
    "img_tensor = dreamsim_preprocess(img).to(device)\n",
    "with torch.no_grad():  \n",
    "    embedding2 = model.embed(img_tensor)\n",
    "\n",
    "img = Image.open('./downloads/all/train/露露杏仁露/0514_70206_0.8654336.jpg').convert('RGB')  \n",
    "img_tensor = dreamsim_preprocess(img).to(device)\n",
    "with torch.no_grad():  \n",
    "    embedding3 = model.embed(img_tensor)  \n",
    "\n",
    "img = Image.open('./downloads/all/train/阿一波虾皮/1102_30719.jpg').convert('RGB')  \n",
    "img_tensor = dreamsim_preprocess(img).to(device)\n",
    "with torch.no_grad():  \n",
    "    embedding4 = model.embed(img_tensor)  \n",
    "\n",
    "print(F.cosine_similarity(embedding, embedding2, dim=1).item())\n",
    "print(F.cosine_similarity(embedding, embedding3, dim=1).item())\n",
    "print(F.cosine_similarity(embedding, embedding4, dim=1).item())"
   ]
  },
  {
   "cell_type": "code",
   "execution_count": null,
   "id": "bdf9b0e7",
   "metadata": {},
   "outputs": [],
   "source": [
    "# original\n",
    "# 0.8140342235565186\n",
    "# 0.28987637162208557\n",
    "# 0.24409101903438568\n",
    "\n",
    "# epoch 1\n",
    "# 0.767868161201477\n",
    "# 0.27752089500427246\n",
    "# 0.16853773593902588\n",
    "\n",
    "# epoch 2\n",
    "# 0.6776403188705444\n",
    "# 0.19907395541667938\n",
    "# 0.052479568868875504\n",
    "\n",
    "# epoch 3\n",
    "# 0.7423529624938965\n",
    "# 0.34551212191581726\n",
    "# 0.17039325833320618\n",
    "\n",
    "# epoch 4\n",
    "# 0.7461689114570618\n",
    "# 0.3533407151699066\n",
    "# 0.10858240723609924"
   ]
  }
 ],
 "metadata": {
  "kernelspec": {
   "display_name": "Python 3 (ipykernel)",
   "language": "python",
   "name": "python3"
  },
  "language_info": {
   "codemirror_mode": {
    "name": "ipython",
    "version": 3
   },
   "file_extension": ".py",
   "mimetype": "text/x-python",
   "name": "python",
   "nbconvert_exporter": "python",
   "pygments_lexer": "ipython3",
   "version": "3.10.12"
  }
 },
 "nbformat": 4,
 "nbformat_minor": 5
}
