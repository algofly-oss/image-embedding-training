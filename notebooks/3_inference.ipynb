{
 "cells": [
  {
   "cell_type": "code",
   "execution_count": 2,
   "id": "1bccd8f2",
   "metadata": {},
   "outputs": [
    {
     "name": "stdout",
     "output_type": "stream",
     "text": [
      "Prefix <model.model.> was removed from the state dict.\n"
     ]
    },
    {
     "data": {
      "text/plain": [
       "(0.803785502910614, 0.060847196727991104)"
      ]
     },
     "execution_count": 2,
     "metadata": {},
     "output_type": "execute_result"
    }
   ],
   "source": [
    "import os\n",
    "import glob\n",
    "import torch\n",
    "import pandas as pd\n",
    "import numpy as np\n",
    "from PIL import Image\n",
    "import matplotlib.pyplot as plt\n",
    "from oml.models import ViTExtractor\n",
    "from oml.registry import get_transforms_for_pretrained\n",
    "import torch.nn.functional as F\n",
    "\n",
    "import yaml\n",
    "from oml.registry.models import get_extractor_by_cfg\n",
    "\n",
    "DEVICE = \"cuda:0\" if torch.cuda.is_available() else \"cpu\"\n",
    "transform, _ = get_transforms_for_pretrained(\"vitb14_dinov2\")\n",
    "model_path = \"./weights/birds_200_vitb14_dinov2/checkpoints/best.ckpt\"\n",
    "\n",
    "extractor = get_extractor_by_cfg({\n",
    "    'name': 'vit',\n",
    "    'args': {\n",
    "        'normalise_features': True,\n",
    "        'use_multi_scale': False,\n",
    "        'weights': model_path,\n",
    "        'arch': 'vitb14'\n",
    "    }\n",
    "}).to(DEVICE)\n",
    "\n",
    "def get_embedding(image_path):\n",
    "    with torch.no_grad():\n",
    "        image = Image.open(image_path)\n",
    "        image = transform(image).unsqueeze(0)\n",
    "        embeddings = extractor(image.to(DEVICE))\n",
    "        return embeddings\n",
    "\n",
    "embedding1 = get_embedding(\"./downloads/birds-200-species/CUB_200_2011/train/001.Black_footed_Albatross/Black_Footed_Albatross_0001_796111.jpg\")\n",
    "embedding2 = get_embedding(\"./downloads/birds-200-species/CUB_200_2011/train/001.Black_footed_Albatross/Black_Footed_Albatross_0058_796074.jpg\")\n",
    "embedding3 = get_embedding(\"./downloads/birds-200-species/CUB_200_2011/train/078.Gray_Kingbird/Gray_Kingbird_0051_70139.jpg\")\n",
    "\n",
    "F.cosine_similarity(embedding1, embedding2, dim=1).item(), F.cosine_similarity(embedding1, embedding3, dim=1).item()"
   ]
  }
 ],
 "metadata": {
  "kernelspec": {
   "display_name": "Python 3 (ipykernel)",
   "language": "python",
   "name": "python3"
  },
  "language_info": {
   "codemirror_mode": {
    "name": "ipython",
    "version": 3
   },
   "file_extension": ".py",
   "mimetype": "text/x-python",
   "name": "python",
   "nbconvert_exporter": "python",
   "pygments_lexer": "ipython3",
   "version": "3.10.12"
  }
 },
 "nbformat": 4,
 "nbformat_minor": 5
}
