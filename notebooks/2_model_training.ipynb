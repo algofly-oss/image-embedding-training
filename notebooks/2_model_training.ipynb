{
 "cells": [
  {
   "cell_type": "code",
   "execution_count": null,
   "id": "6ba6499c",
   "metadata": {},
   "outputs": [],
   "source": [
    "# Use this block for automatically download pretrained weights\n",
    "from dreamsim import dreamsim\n",
    "model, dreamsim_preprocess = dreamsim(cache_dir=\"./models\", dreamsim_type=\"dino_vitb16\")"
   ]
  },
  {
   "cell_type": "code",
   "execution_count": null,
   "id": "f535d717",
   "metadata": {},
   "outputs": [],
   "source": [
    "# !rm -rf ./output\n",
    "!python train.py \\\n",
    "    --config ./configs/train_single_model_lora.yaml \\\n",
    "    --dataset_root ./dataset/rp2k_nights_224 \\\n",
    "    --batch_size 16 \\\n",
    "    --epochs 8 "
   ]
  }
 ],
 "metadata": {
  "kernelspec": {
   "display_name": "Python 3 (ipykernel)",
   "language": "python",
   "name": "python3"
  },
  "language_info": {
   "codemirror_mode": {
    "name": "ipython",
    "version": 3
   },
   "file_extension": ".py",
   "mimetype": "text/x-python",
   "name": "python",
   "nbconvert_exporter": "python",
   "pygments_lexer": "ipython3",
   "version": "3.10.12"
  }
 },
 "nbformat": 4,
 "nbformat_minor": 5
}
